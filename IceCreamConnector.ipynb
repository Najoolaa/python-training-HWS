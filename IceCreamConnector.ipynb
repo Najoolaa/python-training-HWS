{
 "cells": [
  {
   "cell_type": "code",
   "execution_count": 9,
   "metadata": {},
   "outputs": [],
   "source": [
    "# SQL Alchemy\n",
    "from sqlalchemy import create_engine\n",
    "\n",
    "database_path = \"../Resources/icecreamstore.sqlite\""
   ]
  },
  {
   "cell_type": "code",
   "execution_count": 10,
   "metadata": {},
   "outputs": [],
   "source": [
    "# Create an engine to connect to the database\n",
    "engine = create_engine(f\"sqlite:///{database_path}\")"
   ]
  },
  {
   "cell_type": "code",
   "execution_count": 12,
   "metadata": {
    "scrolled": true
   },
   "outputs": [
    {
     "name": "stdout",
     "output_type": "stream",
     "text": [
      "(1, 'Vanilla', 100, 1)\n",
      "(2, 'Chocolate', 150, 1.25)\n",
      "(3, 'Strawberry', 95, 1.25)\n",
      "(4, 'Rocky Road', 50, 1.5)\n",
      "(5, 'Cookie Dough', 75, 1.5)\n",
      "(25, 'testflavor', 5, 0.25)\n"
     ]
    }
   ],
   "source": [
    "# Query All Records in the the Database\n",
    "data = engine.execute(\"SELECT * FROM icecreamstore\")\n",
    "\n",
    "for record in data:\n",
    "    print(record)"
   ]
  },
  {
   "cell_type": "code",
   "execution_count": null,
   "metadata": {},
   "outputs": [],
   "source": [
    "# Query Single Record in the the Database\n"
   ]
  },
  {
   "cell_type": "code",
   "execution_count": 8,
   "metadata": {},
   "outputs": [
    {
     "ename": "IndentationError",
     "evalue": "expected an indented block (990723314.py, line 50)",
     "output_type": "error",
     "traceback": [
      "\u001b[1;36m  Input \u001b[1;32mIn [8]\u001b[1;36m\u001b[0m\n\u001b[1;33m    \u001b[0m\n\u001b[1;37m    ^\u001b[0m\n\u001b[1;31mIndentationError\u001b[0m\u001b[1;31m:\u001b[0m expected an indented block\n"
     ]
    }
   ],
   "source": [
    "from .limsproduct import LimsProduct\n",
    "from .materialtype import MaterialType\n",
    "from .metadatatype import DataType, MetadataType\n",
    "from .metadatavalue import MetadataValue, ValuePossibilities\n",
    "from .order import Order\n",
    "from .ordermetadata_join import OrderMetadata\n",
    "from .orderphysician_join import OrderPhysician\n",
    "from .orderuser_join import OrderUser\n",
    "from .patient import Patient\n",
    "from .patientmetadata_join import PatientMetadata\n",
    "from .physician import Physician\n",
    "from .physicianmetadata_join import PhysicianMetadata\n",
    "from .project import Project\n",
    "from .result import Result\n",
    "from .resultblob import ResultBlob\n",
    "from .resultmetadata import ResultMetadata\n",
    "from .resultmetadatatype import ResultMetadataType\n",
    "from .role import Role\n",
    "from .sample import Sample\n",
    "from .samplemetadata_join import SampleMetadata\n",
    "from .sampletest_join import SampleTest\n",
    "from .statuscatalog import StatusCatalog\n",
    "from .synonym import Synonym\n",
    "from .test import Test\n",
    "from .testcatalog import TestCatalog\n",
    "from .testmetadata_join import TestMetadata\n",
    "from .testoptioncatalog import TestOptionCatalog\n",
    "from .testoptionvalue import TestOptionValue\n",
    "from .testproductmap import TestProductMap\n",
    "from .testproductoption_join import TestProductOption\n",
    "from .testvalidator_join import TestValidator\n",
    "from .user import User\n",
    "from .usermetadata_join import UserMetadata\n",
    "from .userrole_join import UserRole\n",
    "from .validator import Validator\n",
    "from typing import TYPE_CHECKING, List\n",
    "\n",
    "\n",
    "from typing import TYPE_CHECKING, List\n",
    "\n",
    "from sqlmodel import Field, SQLModel, Relationship\n",
    "\n",
    "from .patientmetadata_join import PatientMetadata\n",
    "\n",
    "if TYPE_CHECKING:  # pragma: no cover\n",
    "    from .project import Project\n",
    "    from .sample import Sample\n",
    "    from .metadatavalue import MetadataValue\n",
    "    class Patient(SQLModel, table=True):\n",
    "    \n"
   ]
  },
  {
   "cell_type": "code",
   "execution_count": null,
   "metadata": {},
   "outputs": [],
   "source": []
  },
  {
   "cell_type": "code",
   "execution_count": null,
   "metadata": {},
   "outputs": [],
   "source": []
  }
 ],
 "metadata": {
  "anaconda-cloud": {},
  "kernelspec": {
   "display_name": "Python 3 (ipykernel)",
   "language": "python",
   "name": "python3"
  },
  "language_info": {
   "codemirror_mode": {
    "name": "ipython",
    "version": 3
   },
   "file_extension": ".py",
   "mimetype": "text/x-python",
   "name": "python",
   "nbconvert_exporter": "python",
   "pygments_lexer": "ipython3",
   "version": "3.9.12"
  },
  "varInspector": {
   "cols": {
    "lenName": 16,
    "lenType": 16,
    "lenVar": 40
   },
   "kernels_config": {
    "python": {
     "delete_cmd_postfix": "",
     "delete_cmd_prefix": "del ",
     "library": "var_list.py",
     "varRefreshCmd": "print(var_dic_list())"
    },
    "r": {
     "delete_cmd_postfix": ") ",
     "delete_cmd_prefix": "rm(",
     "library": "var_list.r",
     "varRefreshCmd": "cat(var_dic_list()) "
    }
   },
   "types_to_exclude": [
    "module",
    "function",
    "builtin_function_or_method",
    "instance",
    "_Feature"
   ],
   "window_display": false
  }
 },
 "nbformat": 4,
 "nbformat_minor": 1
}
