{
 "cells": [
  {
   "cell_type": "code",
   "execution_count": 80,
   "metadata": {},
   "outputs": [],
   "source": [
    "from sqlalchemy.ext.declarative import declarative_base\n",
    "Base = declarative_base()\n",
    "from sqlalchemy import Column, Integer, String, Float"
   ]
  },
  {
   "cell_type": "code",
   "execution_count": 81,
   "metadata": {},
   "outputs": [],
   "source": [
    "from sqlalchemy import create_engine\n",
    "database_path = \"../Resources/sharks.sqlite\"\n",
    "engine = create_engine('sqlite:///../Resources/sharks.sqlite')\n",
    "#engine = create_engine(f\"sqlite:///{database_path}\")\n",
    "Base.metadata.create_all(engine)"
   ]
  },
  {
   "cell_type": "code",
   "execution_count": 82,
   "metadata": {},
   "outputs": [],
   "source": [
    "from sqlalchemy.orm import Session\n",
    "session = Session(bind=engine)"
   ]
  },
  {
   "cell_type": "code",
   "execution_count": 83,
   "metadata": {
    "deletable": false,
    "nbgrader": {
     "checksum": "272368b77cc71254fcd63d37c986090e",
     "grade": false,
     "grade_id": "cell-c57d66be4b87f3dc",
     "locked": false,
     "schema_version": 1,
     "solution": true
    }
   },
   "outputs": [
    {
     "ename": "SyntaxError",
     "evalue": "invalid syntax (3553525794.py, line 17)",
     "output_type": "error",
     "traceback": [
      "\u001b[1;36m  Input \u001b[1;32mIn [83]\u001b[1;36m\u001b[0m\n\u001b[1;33m    fatal_y_n= Column(String)\u001b[0m\n\u001b[1;37m    ^\u001b[0m\n\u001b[1;31mSyntaxError\u001b[0m\u001b[1;31m:\u001b[0m invalid syntax\n"
     ]
    }
   ],
   "source": [
    "# create your shark class\n",
    "# YOUR CODE HERE\n",
    "class Shark(Base):\n",
    " __tablename__ = \"Sharks\"\n",
    " id= Column(Integer, primary_key=True) \n",
    " case_number = Column(Integer)\n",
    " year = Column(Integer)\n",
    " type = Column(String)\n",
    " country = Column(String)\n",
    " area = Column(String)\n",
    " location = Column(String)\n",
    " activity = Column(String)\n",
    " name = Column(String)\n",
    " sex = Column(String)\n",
    " age = Column(Integer)\n",
    " injury = Column((String)\n",
    " fatal_y_n= Column(String)\n",
    " time = Column(String)\n",
    " species = Column(String)\n",
    " investigator_or_source = Column(String)\n",
    " pdf= Column(Integer)\n",
    " original_order = Column(Integer)"
   ]
  },
  {
   "cell_type": "code",
   "execution_count": 74,
   "metadata": {
    "deletable": false,
    "nbgrader": {
     "checksum": "827e8537e30fd84c706b14b2040fccf2",
     "grade": false,
     "grade_id": "cell-48e2a351e977f8b6",
     "locked": false,
     "schema_version": 1,
     "solution": true
    }
   },
   "outputs": [],
   "source": [
    "# print all locations of shark attacks\n",
    "# YOUR CODE HERE\n",
    "engine = create_engine('sqlite:///../Resources/sharks.sqlite')\n",
    "\n",
    "Base.metadata.create_all(engine)"
   ]
  },
  {
   "cell_type": "code",
   "execution_count": 84,
   "metadata": {
    "deletable": false,
    "nbgrader": {
     "checksum": "5da00f78964b8a2627e7955872b79cf2",
     "grade": false,
     "grade_id": "cell-33b12ba730e08a42",
     "locked": false,
     "schema_version": 1,
     "solution": true
    }
   },
   "outputs": [
    {
     "ename": "SyntaxError",
     "evalue": "unexpected character after line continuation character (1381435482.py, line 8)",
     "output_type": "error",
     "traceback": [
      "\u001b[1;36m  Input \u001b[1;32mIn [84]\u001b[1;36m\u001b[0m\n\u001b[1;33m    provoked_attacks = session.query(Shark).\\ filter(Shark.type == 'provoked')\u001b[0m\n\u001b[1;37m                                             ^\u001b[0m\n\u001b[1;31mSyntaxError\u001b[0m\u001b[1;31m:\u001b[0m unexpected character after line continuation character\n"
     ]
    }
   ],
   "source": [
    "# find the number of provoked attacks\n",
    "# YOUR CODE HERE\n",
    "from sqlalchemy.orm import Session\n",
    "# Session establishes all conversations with the database and \n",
    "# represents a “holding zone” for all the objects \n",
    "# which you’ve loaded or associated with it during its lifespan. \n",
    "session = Session(bind=engine)\n",
    "provoked_attacks = session.query(Shark).\\ filter(Shark.type == 'provoked')\n",
    "for type in provoked_attacks\n",
    "  print(Sharks.type)"
   ]
  },
  {
   "cell_type": "code",
   "execution_count": 85,
   "metadata": {
    "deletable": false,
    "nbgrader": {
     "checksum": "625cca75f2e3869d61a4d1bb6aaa862d",
     "grade": false,
     "grade_id": "cell-4b1293d38480400d",
     "locked": false,
     "schema_version": 1,
     "solution": true
    }
   },
   "outputs": [
    {
     "ename": "NameError",
     "evalue": "name 'Shark' is not defined",
     "output_type": "error",
     "traceback": [
      "\u001b[1;31m---------------------------------------------------------------------------\u001b[0m",
      "\u001b[1;31mNameError\u001b[0m                                 Traceback (most recent call last)",
      "Input \u001b[1;32mIn [85]\u001b[0m, in \u001b[0;36m<cell line: 3>\u001b[1;34m()\u001b[0m\n\u001b[0;32m      1\u001b[0m \u001b[38;5;66;03m# find the number of attacks in USA\u001b[39;00m\n\u001b[0;32m      2\u001b[0m \u001b[38;5;66;03m# YOUR CODE HERE\u001b[39;00m\n\u001b[1;32m----> 3\u001b[0m attacks_number  \u001b[38;5;241m=\u001b[39m session\u001b[38;5;241m.\u001b[39mquery(\u001b[43mShark\u001b[49m)\u001b[38;5;241m.\u001b[39m\\\n\u001b[0;32m      4\u001b[0m     \u001b[38;5;28mfilter\u001b[39m(Shark\u001b[38;5;241m.\u001b[39mtype \u001b[38;5;241m==\u001b[39m \u001b[38;5;124m'\u001b[39m\u001b[38;5;124mprovoked\u001b[39m\u001b[38;5;124m'\u001b[39m \u001b[38;5;241m&\u001b[39m Shark\u001b[38;5;241m.\u001b[39mcountry \u001b[38;5;241m==\u001b[39m \u001b[38;5;124m'\u001b[39m\u001b[38;5;124mUSA\u001b[39m\u001b[38;5;124m'\u001b[39m)\u001b[38;5;241m.\u001b[39mcount()\n\u001b[0;32m      5\u001b[0m \u001b[38;5;28mprint\u001b[39m(\u001b[38;5;124mf\u001b[39m\u001b[38;5;124m\"\u001b[39m\u001b[38;5;124mThere are \u001b[39m\u001b[38;5;132;01m{\u001b[39;00mattacks_number \u001b[38;5;132;01m}\u001b[39;00m\u001b[38;5;124m players from the USA\u001b[39m\u001b[38;5;124m\"\u001b[39m)\n",
      "\u001b[1;31mNameError\u001b[0m: name 'Shark' is not defined"
     ]
    }
   ],
   "source": [
    "# find the number of attacks in USA\n",
    "# YOUR CODE HERE\n",
    "attacks_number  = session.query(Shark).\\\n",
    "    filter(Shark.type == 'provoked' & Shark.country == 'USA').count()\n",
    "print(f\"There are {attacks_number } players from the USA\")"
   ]
  },
  {
   "cell_type": "code",
   "execution_count": 79,
   "metadata": {
    "deletable": false,
    "nbgrader": {
     "checksum": "5c44b8a34de6f5090552b1efa1c4d58e",
     "grade": false,
     "grade_id": "cell-5431c1fabaae9ed8",
     "locked": false,
     "schema_version": 1,
     "solution": true
    }
   },
   "outputs": [
    {
     "ename": "NameError",
     "evalue": "name 'Shark' is not defined",
     "output_type": "error",
     "traceback": [
      "\u001b[1;31m---------------------------------------------------------------------------\u001b[0m",
      "\u001b[1;31mNameError\u001b[0m                                 Traceback (most recent call last)",
      "Input \u001b[1;32mIn [79]\u001b[0m, in \u001b[0;36m<cell line: 3>\u001b[1;34m()\u001b[0m\n\u001b[0;32m      1\u001b[0m \u001b[38;5;66;03m# find the number of attacks in 2017\u001b[39;00m\n\u001b[0;32m      2\u001b[0m \u001b[38;5;66;03m# YOUR CODE HERE\u001b[39;00m\n\u001b[1;32m----> 3\u001b[0m attacks_number  \u001b[38;5;241m=\u001b[39m session\u001b[38;5;241m.\u001b[39mquery(\u001b[43mShark\u001b[49m)\u001b[38;5;241m.\u001b[39m\\\n\u001b[0;32m      4\u001b[0m     \u001b[38;5;28mfilter\u001b[39m(Shark\u001b[38;5;241m.\u001b[39myear \u001b[38;5;241m==\u001b[39m \u001b[38;5;124m'\u001b[39m\u001b[38;5;124m2017\u001b[39m\u001b[38;5;124m'\u001b[39m)\n\u001b[0;32m      5\u001b[0m \u001b[38;5;28mprint\u001b[39m(\u001b[38;5;124mf\u001b[39m\u001b[38;5;124m\"\u001b[39m\u001b[38;5;124mThere are \u001b[39m\u001b[38;5;132;01m{\u001b[39;00mattacks_number \u001b[38;5;132;01m}\u001b[39;00m\u001b[38;5;124m players in 2017\u001b[39m\u001b[38;5;124m\"\u001b[39m)\n",
      "\u001b[1;31mNameError\u001b[0m: name 'Shark' is not defined"
     ]
    }
   ],
   "source": [
    "# find the number of attacks in 2017\n",
    "# YOUR CODE HERE\n",
    "attacks_number  = session.query(Shark).\\\n",
    "    filter(Shark.year == '2017')\n",
    "print(f\"There are {attacks_number } players in 2017\")"
   ]
  },
  {
   "cell_type": "code",
   "execution_count": 86,
   "metadata": {
    "deletable": false,
    "nbgrader": {
     "checksum": "6fb8eae592cf139c082c6f77d42e00aa",
     "grade": false,
     "grade_id": "cell-4de2402e47fe0214",
     "locked": false,
     "schema_version": 1,
     "solution": true
    }
   },
   "outputs": [
    {
     "ename": "NameError",
     "evalue": "name 'Shark' is not defined",
     "output_type": "error",
     "traceback": [
      "\u001b[1;31m---------------------------------------------------------------------------\u001b[0m",
      "\u001b[1;31mNameError\u001b[0m                                 Traceback (most recent call last)",
      "Input \u001b[1;32mIn [86]\u001b[0m, in \u001b[0;36m<cell line: 3>\u001b[1;34m()\u001b[0m\n\u001b[0;32m      1\u001b[0m \u001b[38;5;66;03m# find the number of attacks while surfing\u001b[39;00m\n\u001b[0;32m      2\u001b[0m \u001b[38;5;66;03m# YOUR CODE HERE\u001b[39;00m\n\u001b[1;32m----> 3\u001b[0m attacks_number  \u001b[38;5;241m=\u001b[39m session\u001b[38;5;241m.\u001b[39mquery(\u001b[43mShark\u001b[49m)\u001b[38;5;241m.\u001b[39m\\\n\u001b[0;32m      4\u001b[0m     \u001b[38;5;28mfilter\u001b[39m(Shark\u001b[38;5;241m.\u001b[39minjury \u001b[38;5;241m==\u001b[39m \u001b[38;5;124m'\u001b[39m\u001b[38;5;124mwhile surfing\u001b[39m\u001b[38;5;124m'\u001b[39m)\u001b[38;5;241m.\u001b[39mcount()\n\u001b[0;32m      5\u001b[0m \u001b[38;5;28mprint\u001b[39m(\u001b[38;5;124mf\u001b[39m\u001b[38;5;124m\"\u001b[39m\u001b[38;5;124mThere are \u001b[39m\u001b[38;5;132;01m{\u001b[39;00mattacks_number \u001b[38;5;132;01m}\u001b[39;00m\u001b[38;5;124m while surfing \u001b[39m\u001b[38;5;124m\"\u001b[39m)\n",
      "\u001b[1;31mNameError\u001b[0m: name 'Shark' is not defined"
     ]
    }
   ],
   "source": [
    "# find the number of attacks while surfing\n",
    "# YOUR CODE HERE\n",
    "attacks_number  = session.query(Shark).\\\n",
    "    filter(Shark.injury == 'while surfing').count()\n",
    "print(f\"There are {attacks_number } while surfing \")"
   ]
  },
  {
   "cell_type": "code",
   "execution_count": 10,
   "metadata": {
    "deletable": false,
    "nbgrader": {
     "checksum": "ac16e312f24b2a48fba9a384e600676f",
     "grade": false,
     "grade_id": "cell-9e2afa5b2f869a4f",
     "locked": false,
     "schema_version": 1,
     "solution": true
    }
   },
   "outputs": [],
   "source": [
    "# find the number of fatal attacks\n",
    "# YOUR CODE HERE\n",
    "fata_attacks_number  = session.query(Shark).\\\n",
    "    filter(Shark.type == 'provoked' &hark.fatal_y_n != 0).count()\n",
    "print(f\"There are {fatl_attacks_number }  \")"
   ]
  },
  {
   "cell_type": "code",
   "execution_count": 11,
   "metadata": {
    "deletable": false,
    "nbgrader": {
     "checksum": "099a489efed7a5379e3b22a0997c9465",
     "grade": false,
     "grade_id": "cell-75819f28900a2e54",
     "locked": false,
     "schema_version": 1,
     "solution": true
    }
   },
   "outputs": [],
   "source": [
    "# find the number of fatal attacks while surfing\n",
    "# YOUR CODE HERE\n",
    "#akraedy done up there."
   ]
  },
  {
   "cell_type": "code",
   "execution_count": 12,
   "metadata": {
    "deletable": false,
    "nbgrader": {
     "checksum": "7e93397023f1706df0f8bec0a433137b",
     "grade": false,
     "grade_id": "cell-ef68003cff255319",
     "locked": false,
     "schema_version": 1,
     "solution": true
    }
   },
   "outputs": [],
   "source": [
    "# find the number of fatal attacks in Mozambique while spearfishing\n",
    "# YOUR CODE HERE\n",
    "fatal_attacks_number  = session.query(Shark).\\\n",
    "    filter(Shark.fata_y_n == 0 & Shark.country == ' Mozambique').count()\n",
    "print(f\"There are {fata_attacks_number } players from the  Mozambique\")"
   ]
  }
 ],
 "metadata": {
  "kernelspec": {
   "display_name": "Python 3 (ipykernel)",
   "language": "python",
   "name": "python3"
  },
  "language_info": {
   "codemirror_mode": {
    "name": "ipython",
    "version": 3
   },
   "file_extension": ".py",
   "mimetype": "text/x-python",
   "name": "python",
   "nbconvert_exporter": "python",
   "pygments_lexer": "ipython3",
   "version": "3.9.12"
  },
  "varInspector": {
   "cols": {
    "lenName": 16,
    "lenType": 16,
    "lenVar": 40
   },
   "kernels_config": {
    "python": {
     "delete_cmd_postfix": "",
     "delete_cmd_prefix": "del ",
     "library": "var_list.py",
     "varRefreshCmd": "print(var_dic_list())"
    },
    "r": {
     "delete_cmd_postfix": ") ",
     "delete_cmd_prefix": "rm(",
     "library": "var_list.r",
     "varRefreshCmd": "cat(var_dic_list()) "
    }
   },
   "types_to_exclude": [
    "module",
    "function",
    "builtin_function_or_method",
    "instance",
    "_Feature"
   ],
   "window_display": false
  }
 },
 "nbformat": 4,
 "nbformat_minor": 2
}
